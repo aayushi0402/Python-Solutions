{
 "cells": [
  {
   "cell_type": "markdown",
   "metadata": {},
   "source": [
    "1.Find the missing number in a given integer array of 1 to 100"
   ]
  },
  {
   "cell_type": "code",
   "execution_count": 4,
   "metadata": {},
   "outputs": [
    {
     "name": "stdout",
     "output_type": "stream",
     "text": [
      "100\n"
     ]
    }
   ],
   "source": [
    "list1=list(range(1,101))# Numbers from 1-100\n",
    "new_list=list(range(1,100))# Numbers from 1-99\n",
    "for i in range(len(list1)):\n",
    "        if list1[i] not in new_list:\n",
    "            print(list1[i])\n"
   ]
  },
  {
   "cell_type": "markdown",
   "metadata": {},
   "source": [
    "2.Find the duplicate number on a given integer array."
   ]
  },
  {
   "cell_type": "code",
   "execution_count": 7,
   "metadata": {},
   "outputs": [
    {
     "name": "stdout",
     "output_type": "stream",
     "text": [
      "Duplicate number 9\n"
     ]
    }
   ],
   "source": [
    "list2=[1,2,4,9,5,6,7,45,9,77,89,55,99,65]\n",
    "counter=-1\n",
    "for i in range(len(list2)):\n",
    "     for j in range(i+1,len(list2)):\n",
    "            if list2[i]==list2[j]:\n",
    "                duplicate=list2[j]\n",
    "                counter=counter+1\n",
    "if counter==-1:\n",
    "    print(\"No Duplicate\")\n",
    "else:\n",
    "    print(\"Duplicate number\",duplicate)   "
   ]
  },
  {
   "cell_type": "markdown",
   "metadata": {},
   "source": [
    "3.Find the largest and smallest number in an unsorted integer array."
   ]
  },
  {
   "cell_type": "code",
   "execution_count": 9,
   "metadata": {},
   "outputs": [
    {
     "name": "stdout",
     "output_type": "stream",
     "text": [
      "The maximum value is 44 The minimum value is -2\n"
     ]
    }
   ],
   "source": [
    "def maxi_mini(list):\n",
    "    return print(\"The maximum value is\",max(list),\"The minimum value is\",min(list))\n",
    "\n",
    "list1=[4,2,4,8,3,5,44,3,1,0,-1,-2]\n",
    "maxi_mini(list1)"
   ]
  },
  {
   "cell_type": "markdown",
   "metadata": {},
   "source": [
    "4.Find all pairs of an integer array whose sum is equal to a given number."
   ]
  },
  {
   "cell_type": "code",
   "execution_count": 11,
   "metadata": {},
   "outputs": [
    {
     "name": "stdout",
     "output_type": "stream",
     "text": [
      "[2, 8]\n",
      "[3, 7]\n",
      "[4, 6]\n"
     ]
    }
   ],
   "source": [
    "def sum_pairs(list,number):\n",
    "    for i in range(len(list)):\n",
    "        for j in range(i+1,len(list)):\n",
    "            if list[i]+list[j]==number:\n",
    "                print([list[i],list[j]])\n",
    "                \n",
    "list2=[2,3,4,5,9,7,8,6,10,11,12]\n",
    "sum_pairs(list2,10)"
   ]
  },
  {
   "cell_type": "markdown",
   "metadata": {},
   "source": [
    "5.Find duplicate numbers in an array if it contains multiple duplicates."
   ]
  },
  {
   "cell_type": "code",
   "execution_count": 13,
   "metadata": {},
   "outputs": [
    {
     "data": {
      "text/plain": [
       "[2, 6, 7, 8]"
      ]
     },
     "execution_count": 13,
     "metadata": {},
     "output_type": "execute_result"
    }
   ],
   "source": [
    "def list_dupli(list):\n",
    "    duplicates=[]\n",
    "    for i in range(len(list)):\n",
    "        for j in range(i+1,len(list)):\n",
    "            if (list[i]==list[j]) and (list[j] not in duplicates):\n",
    "                duplicates.append(list[j])\n",
    "    return duplicates\n",
    "test_list=[2,4,5,6,7,6,8,7,2,8,2]\n",
    "list_dupli(test_list)"
   ]
  },
  {
   "cell_type": "markdown",
   "metadata": {},
   "source": [
    "6.Remove duplicates from an array in place"
   ]
  },
  {
   "cell_type": "code",
   "execution_count": 14,
   "metadata": {},
   "outputs": [
    {
     "data": {
      "text/plain": [
       "[2, 3, 7, 6, 9, 1, 90, 46]"
      ]
     },
     "execution_count": 14,
     "metadata": {},
     "output_type": "execute_result"
    }
   ],
   "source": [
    "def rm_dupli(list):\n",
    "    list11=[]\n",
    "    for i in range(len(list)):\n",
    "        if list[i] not in list11:\n",
    "            list11.append(list[i])\n",
    "    return list11\n",
    "\n",
    "test_list=[2,3,7,6,9,3,2,1,90,46]\n",
    "rm_dupli(test_list)"
   ]
  },
  {
   "cell_type": "markdown",
   "metadata": {},
   "source": [
    "7.Reverse an array in place."
   ]
  },
  {
   "cell_type": "code",
   "execution_count": 15,
   "metadata": {},
   "outputs": [
    {
     "data": {
      "text/plain": [
       "[19, 2, 3, 9, 22, 26, 4]"
      ]
     },
     "execution_count": 15,
     "metadata": {},
     "output_type": "execute_result"
    }
   ],
   "source": [
    "def rev_list(list):\n",
    "    dup=[]\n",
    "    for i in range(len(list)-1,-1,-1):\n",
    "        dup.append(list[i])\n",
    "    return dup\n",
    "\n",
    "list1=[4,26,22,9,3,2,19]\n",
    "rev_list(list1)"
   ]
  }
 ],
 "metadata": {
  "kernelspec": {
   "display_name": "Python 3",
   "language": "python",
   "name": "python3"
  },
  "language_info": {
   "codemirror_mode": {
    "name": "ipython",
    "version": 3
   },
   "file_extension": ".py",
   "mimetype": "text/x-python",
   "name": "python",
   "nbconvert_exporter": "python",
   "pygments_lexer": "ipython3",
   "version": "3.7.0"
  }
 },
 "nbformat": 4,
 "nbformat_minor": 2
}
