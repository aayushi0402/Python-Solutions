{
 "cells": [
  {
   "cell_type": "markdown",
   "metadata": {},
   "source": [
    "# A. Practice Exercises"
   ]
  },
  {
   "cell_type": "markdown",
   "metadata": {},
   "source": [
    "1.When To Use Lists And When To Use Tuples, Dictionaries Or Sets.\n",
    "\n",
    "Lists are often more advantageous than tuples, one of the major reasons being its mutable feature,unlike tuples which cannot be editied in any way.\n",
    "Operations like append(),extend(),etc can be performed on a list where as a tuple is not mutable at all and hence cannot be changed accordingly. \n",
    "Sets and Dictionaries fall under the category of Tuples and hence are immutable too. Sets are usually used when the programmer decides to perform some set operations to remove duplicates from as list,some of which include intersection(),isdisjoint(),etc.\n",
    "Dictionaries are like databases and are used to map keys(indices) to specific values.Each key maps to a unique value. Data is retrieved from dictionaries with the help of these key values."
   ]
  },
  {
   "cell_type": "markdown",
   "metadata": {},
   "source": [
    "2.How To Select An Element From A List.\n",
    "\n",
    "To select an element from any list, we can specify the index of the desired element.For example:Let us say we want the number 4\n",
    "In case we do not know the index of the desired element,we can always use the index() function which returns the index of the desired element.(Note:If there are duplicates of the desired element the index of the first occuring desired element is returned)   \n",
    "list_1=[1,2,3,4,5]\n",
    "print(list_1[3])\n",
    "index(4)"
   ]
  },
  {
   "cell_type": "markdown",
   "metadata": {},
   "source": [
    "3.How To Transform Lists Into Other Data Structures\n",
    "\n",
    "By simply passing the desired list as the argument to set() or tuple() or dict()."
   ]
  },
  {
   "cell_type": "markdown",
   "metadata": {},
   "source": [
    "4.How To Determine The Size Of Your List\n",
    "\n",
    "To determine the size of a list, we can make use of the len() function by passing the list as its argument. Eg: len(list1)"
   ]
  },
  {
   "cell_type": "markdown",
   "metadata": {},
   "source": [
    "5.What’s The Difference Between The Python append() and extend() Methods?\n",
    "\n",
    "append() method simply adds the list,tuple,string,set or number at the end of the list where as extend() does not creat nested lists or tuples. append() can and extend() can only be used when we want to add new elements,list,tuples at the end of a list."
   ]
  },
  {
   "cell_type": "markdown",
   "metadata": {},
   "source": [
    "6.How To Concatenate Lists?\n",
    "\n",
    "Lists can be concatenated by placing a '+' operator between the lists. Eg: list1=[1,2,3,4] and list2=[5,6,7,8,9] then list1+list2 will give the result [1,2,3,4,5,6,7,8,9]"
   ]
  },
  {
   "cell_type": "markdown",
   "metadata": {},
   "source": [
    "7.How to sort a list?\n",
    "\n",
    "To sort a list we can make use of the sort() function. By pasing the desired list to be sorted as the argument in this function we obtain the sorted list."
   ]
  },
  {
   "cell_type": "markdown",
   "metadata": {},
   "source": [
    "8.How to clone or copy a list?\n",
    "\n",
    "A clone/copy of a list can be created by assigning the list to a new variable.\n",
    "Eg: list1=[1,2,3,4,5]\n",
    "list2=list1\n",
    "print(list2)\n",
    "The resulting output is [1,2,3,4,5]\n"
   ]
  },
  {
   "cell_type": "markdown",
   "metadata": {},
   "source": [
    "9.How Does List Comprehension Work In Python?\n",
    "By enclosing a single line of code inside the square brackets[]. It comes handy when we do not wish to create a separate list to hold values.Eg. [2* num for num in range(1,11)](i.e.2's table)"
   ]
  },
  {
   "cell_type": "markdown",
   "metadata": {},
   "source": [
    "10.How To Count Occurrences Of A List Item In Python?\n",
    "count() function can be used to find the occurences of an item in a list. Eg \n",
    "list1=[1,2,3,4,2,6,1]\n",
    "list1.count(2)\n",
    "The output for this would be 2 since two appears twice."
   ]
  },
  {
   "cell_type": "markdown",
   "metadata": {},
   "source": [
    "12.How To Loop over A List?\n",
    "Looping over a list looks something like this:\n",
    "list1=['number',4,'hello','6.0']\n",
    "for item in list1:\n",
    "   print(item)\n",
    "   \n",
    "The output would look something like this\n",
    "'number'\n",
    "4\n",
    "'hello'\n",
    "'6.0'\n",
    "\n",
    "The for loop starts from the item present at index 0 and runs upto the length-1 index and prints the item present at that particular index."
   ]
  },
  {
   "cell_type": "markdown",
   "metadata": {},
   "source": [
    "13.How To Create Flat Lists Out Of Lists"
   ]
  },
  {
   "cell_type": "code",
   "execution_count": 490,
   "metadata": {},
   "outputs": [
    {
     "data": {
      "text/plain": [
       "[1, 2, 3, 4, 5, 6, 7, 8, 9, 10]"
      ]
     },
     "execution_count": 490,
     "metadata": {},
     "output_type": "execute_result"
    }
   ],
   "source": [
    "\n",
    "def flat_list(list123):\n",
    "    \n",
    "    flat = []\n",
    "    for i in list123:\n",
    "         for j in i:\n",
    "            flat.append(j)\n",
    "    return flat\n",
    "\n",
    "        \n",
    "list1=[[1,2,3,4],[5,6,7,8],[9],[10]]\n",
    "flat_list(list1)"
   ]
  },
  {
   "cell_type": "markdown",
   "metadata": {},
   "source": [
    "14.How To Get An Intersection Of Two Lists?\n",
    "\n",
    "Pass both the lists through the set() function and apply the intersection() function. To get an answer as a list,pass the result of intersection() as the argument in the list() function."
   ]
  },
  {
   "cell_type": "markdown",
   "metadata": {},
   "source": [
    "15.How To Remove Duplicates From A List?\n",
    "\n",
    "By using the set() function on the desired list and converting the output into a list again(if needed)\n"
   ]
  },
  {
   "cell_type": "markdown",
   "metadata": {},
   "source": [
    "# B. Coding Exercises"
   ]
  },
  {
   "cell_type": "markdown",
   "metadata": {},
   "source": [
    "1.Write a python program to find the sum of all numbers in a list"
   ]
  },
  {
   "cell_type": "code",
   "execution_count": 491,
   "metadata": {},
   "outputs": [
    {
     "data": {
      "text/plain": [
       "60"
      ]
     },
     "execution_count": 491,
     "metadata": {},
     "output_type": "execute_result"
    }
   ],
   "source": [
    "def sum_list(list):\n",
    "    sum=0\n",
    "    for i in list:\n",
    "        sum=sum+i\n",
    "    return sum\n",
    "list1=[10,20,30]\n",
    "sum_list(list1)\n",
    "        "
   ]
  },
  {
   "cell_type": "markdown",
   "metadata": {},
   "source": [
    "2.Write a python program to find the largest number in a given list without using max()"
   ]
  },
  {
   "cell_type": "code",
   "execution_count": 492,
   "metadata": {},
   "outputs": [
    {
     "data": {
      "text/plain": [
       "3975"
      ]
     },
     "execution_count": 492,
     "metadata": {},
     "output_type": "execute_result"
    }
   ],
   "source": [
    "def largest_num(list):\n",
    "    largest=list[0]\n",
    "    for number in list:\n",
    "        if number>largest:\n",
    "            largest=number\n",
    "    return largest\n",
    "\n",
    "list2=[3975,5,7,2,9,2847,0,2,910]\n",
    "largest_num(list2)"
   ]
  },
  {
   "cell_type": "markdown",
   "metadata": {},
   "source": [
    "2.1.Write a python program to find the second largest number in a given list using max()"
   ]
  },
  {
   "cell_type": "code",
   "execution_count": 501,
   "metadata": {},
   "outputs": [
    {
     "data": {
      "text/plain": [
       "8"
      ]
     },
     "execution_count": 501,
     "metadata": {},
     "output_type": "execute_result"
    }
   ],
   "source": [
    "def second_lar(list_slarge):\n",
    "    slargest=list_slarge[0]\n",
    "    for number in list_slarge:\n",
    "        if number>slargest and number<max(list_slarge):\n",
    "                slargest=number\n",
    "    \n",
    "    return slargest\n",
    "listslar=[1,2,7,8,5,98]\n",
    "second_lar(listslar)"
   ]
  },
  {
   "cell_type": "markdown",
   "metadata": {},
   "source": [
    "3.Write a python program to find the common numbers from two lists"
   ]
  },
  {
   "cell_type": "code",
   "execution_count": 494,
   "metadata": {},
   "outputs": [
    {
     "data": {
      "text/plain": [
       "[2, 7, 4]"
      ]
     },
     "execution_count": 494,
     "metadata": {},
     "output_type": "execute_result"
    }
   ],
   "source": [
    "def common_num(list_1,list_2):\n",
    "    common=[]\n",
    "    for number in list_1:\n",
    "        if number in list_2 and number not in common:\n",
    "                common.append(number)\n",
    "    return common\n",
    "first_list=[2,5,6,7,4]\n",
    "second_list=[1,2,3,4,7]\n",
    "common_num(first_list,second_list)"
   ]
  },
  {
   "cell_type": "markdown",
   "metadata": {},
   "source": [
    "4.Write a python program to print all even numbers from a given list"
   ]
  },
  {
   "cell_type": "code",
   "execution_count": 495,
   "metadata": {},
   "outputs": [
    {
     "name": "stdout",
     "output_type": "stream",
     "text": [
      "0\n",
      "2\n",
      "4\n",
      "6\n",
      "8\n",
      "10\n"
     ]
    }
   ],
   "source": [
    "list_3=[0,1,2,3,4,5,6,7,8,9,10]\n",
    "for number in list_3:\n",
    "        if number%2==0:\n",
    "            print(number)\n",
    "            \n",
    "            "
   ]
  },
  {
   "cell_type": "markdown",
   "metadata": {},
   "source": [
    "5.Write a python program to create a list of even numbers and another list of odd numbers from a given list"
   ]
  },
  {
   "cell_type": "code",
   "execution_count": 496,
   "metadata": {},
   "outputs": [
    {
     "name": "stdout",
     "output_type": "stream",
     "text": [
      "Even list= [0, 2, 4, 6, 8, 10, 12] Odd list= [1, 3, 5, 7, 9, 11]\n"
     ]
    }
   ],
   "source": [
    "def odd_eve(list_sep):\n",
    "    odd=[]\n",
    "    eve=[]\n",
    "    for number in list_sep:\n",
    "        if number%2==0:\n",
    "            eve.append(number)\n",
    "        else:\n",
    "            odd.append(number)\n",
    "    print(\"Even list=\",eve,\"Odd list=\",odd)\n",
    "    \n",
    "list_check=[0,1,2,3,4,5,6,7,8,9,10,11,12]\n",
    "odd_eve(list_check)"
   ]
  },
  {
   "cell_type": "markdown",
   "metadata": {},
   "source": [
    "6.Write a python program to remove repeated elements from a given list without using built-in methods"
   ]
  },
  {
   "cell_type": "code",
   "execution_count": 497,
   "metadata": {},
   "outputs": [
    {
     "name": "stdout",
     "output_type": "stream",
     "text": [
      "[1, 2, 3, 6, 7, 8]\n"
     ]
    }
   ],
   "source": [
    "list123=[1,2,3,2,1,6,7,2,6,8]\n",
    "no_dup=[]\n",
    "[no_dup.append(i) for i in list123 if i not in no_dup]\n",
    "print(no_dup)\n"
   ]
  },
  {
   "cell_type": "markdown",
   "metadata": {},
   "source": [
    "7.Write a python program to find the longest word in a given sentence"
   ]
  },
  {
   "cell_type": "code",
   "execution_count": 498,
   "metadata": {},
   "outputs": [
    {
     "name": "stdout",
     "output_type": "stream",
     "text": [
      "Longest word is: Bangalore\n",
      "It's length is: 9\n"
     ]
    }
   ],
   "source": [
    "string=\"You are in Bangalore\"\n",
    "word_list=string.split()\n",
    "count=0\n",
    "longest=[]\n",
    "for word in word_list:\n",
    "    if len(word)>count:\n",
    "        longest=word\n",
    "        count=len(word)\n",
    "\n",
    "print(\"Longest word is:\",longest)\n",
    "print(\"It's length is:\",count)\n"
   ]
  },
  {
   "cell_type": "markdown",
   "metadata": {},
   "source": [
    "\n",
    "8.Write a python program to find number of occurrences of given number with out using built-in methods"
   ]
  },
  {
   "cell_type": "code",
   "execution_count": 499,
   "metadata": {},
   "outputs": [
    {
     "data": {
      "text/plain": [
       "4"
      ]
     },
     "execution_count": 499,
     "metadata": {},
     "output_type": "execute_result"
    }
   ],
   "source": [
    "def find_dup(list_dup,num):\n",
    "    count=0\n",
    "    for number in list_dup:\n",
    "        if number==num:\n",
    "            count=count+1\n",
    "    return count\n",
    "list11=[7,5,7,3,8,7,2,9,0,7]\n",
    "find_dup(list11,7)\n",
    "            \n",
    "\n"
   ]
  },
  {
   "cell_type": "markdown",
   "metadata": {},
   "source": [
    "9.[\"www.zframez.com\", \"www.wikipedia.org\", \"www.asp.net\", \"www.abcd.in\"]\n",
    "Write a python program to print website suffixes (com , org , net ,in) from this list"
   ]
  },
  {
   "cell_type": "code",
   "execution_count": 500,
   "metadata": {},
   "outputs": [
    {
     "name": "stdout",
     "output_type": "stream",
     "text": [
      "['com', 'org', 'net', 'in']\n"
     ]
    }
   ],
   "source": [
    "web_list=[\"www.zframez.com\", \"www.wikipedia.org\", \"www.asp.net\", \"www.abcd.in\"]\n",
    "ext=[]\n",
    "for website in web_list:\n",
    "    for i in range(len(website)-1,-1,-1):\n",
    "        if website[i]==\".\":\n",
    "            index=i+1\n",
    "            ext.append(website[index:])\n",
    "            break\n",
    "print(ext)\n",
    "    \n",
    "    "
   ]
  },
  {
   "cell_type": "markdown",
   "metadata": {},
   "source": [
    "10.Write a python program to sort a given list of numbers with out using sort() function"
   ]
  },
  {
   "cell_type": "code",
   "execution_count": 488,
   "metadata": {},
   "outputs": [
    {
     "name": "stdout",
     "output_type": "stream",
     "text": [
      "[-1, 0, 1, 3, 4, 7, 9, 34, 56, 56, 98]\n"
     ]
    }
   ],
   "source": [
    "list123=[56,34,-1,7,1,3,0,98,56,9,4]\n",
    "for i in range(len(list123)):\n",
    "    for j in range(i+1,len(list123)):\n",
    "        if list123[i]>list123[j]:\n",
    "            list123[i],list123[j]=list123[j],list123[i]\n",
    "    \n",
    "print(list123)"
   ]
  },
  {
   "cell_type": "code",
   "execution_count": null,
   "metadata": {},
   "outputs": [],
   "source": []
  }
 ],
 "metadata": {
  "kernelspec": {
   "display_name": "Python 3",
   "language": "python",
   "name": "python3"
  },
  "language_info": {
   "codemirror_mode": {
    "name": "ipython",
    "version": 3
   },
   "file_extension": ".py",
   "mimetype": "text/x-python",
   "name": "python",
   "nbconvert_exporter": "python",
   "pygments_lexer": "ipython3",
   "version": "3.7.0"
  }
 },
 "nbformat": 4,
 "nbformat_minor": 2
}
