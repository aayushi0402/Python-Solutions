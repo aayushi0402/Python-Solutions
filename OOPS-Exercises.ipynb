{
 "cells": [
  {
   "cell_type": "markdown",
   "metadata": {},
   "source": [
    "### Classes and Objects"
   ]
  },
  {
   "cell_type": "code",
   "execution_count": 9,
   "metadata": {},
   "outputs": [],
   "source": [
    "#Creating a class Point to represent a point in 2D space\n",
    "class Point:\n",
    "    \"\"\"Represents a point in 2D Space.\"\"\"\n",
    "    def __init__(self,x,y):\n",
    "        self.x = x\n",
    "        self.y = y\n",
    "    \n",
    "    "
   ]
  },
  {
   "cell_type": "code",
   "execution_count": 10,
   "metadata": {},
   "outputs": [
    {
     "data": {
      "text/plain": [
       "__main__.Point"
      ]
     },
     "execution_count": 10,
     "metadata": {},
     "output_type": "execute_result"
    }
   ],
   "source": [
    "Point #Main class, we can create objects using this class"
   ]
  },
  {
   "cell_type": "code",
   "execution_count": 13,
   "metadata": {},
   "outputs": [
    {
     "data": {
      "text/plain": [
       "<__main__.Point at 0x1fa1b802dd8>"
      ]
     },
     "execution_count": 13,
     "metadata": {},
     "output_type": "execute_result"
    }
   ],
   "source": [
    "#Creating an object of class Point-Instantiation\n",
    "blank = Point(3.0,4.0)#An object blank with the values of x and y coordinate specified\n",
    "blank #Checking the type of blank, shows that it is an object of the class Point and where it is stored in memory(the hexadecimal number)"
   ]
  },
  {
   "cell_type": "code",
   "execution_count": 15,
   "metadata": {},
   "outputs": [],
   "source": [
    "#Assigning values to instance/object\n",
    "#blank.x = 3.0\n",
    "#blank.y = 4.0\n",
    "#x,y are the attributes of the class Point being used by the object blank."
   ]
  },
  {
   "cell_type": "code",
   "execution_count": 14,
   "metadata": {},
   "outputs": [
    {
     "name": "stdout",
     "output_type": "stream",
     "text": [
      "3.0\n",
      "4.0\n"
     ]
    }
   ],
   "source": [
    "#for getting the vlaue of x and y we do the following \n",
    "blank.x\n",
    "blank.y"
   ]
  },
  {
   "cell_type": "code",
   "execution_count": 17,
   "metadata": {},
   "outputs": [
    {
     "data": {
      "text/plain": [
       "5.0"
      ]
     },
     "execution_count": 17,
     "metadata": {},
     "output_type": "execute_result"
    }
   ],
   "source": [
    "#Lets use x and y for calculating distance\n",
    "import math\n",
    "distance = math.sqrt(blank.x**2 + blank.y**2)\n",
    "distance"
   ]
  },
  {
   "cell_type": "code",
   "execution_count": 19,
   "metadata": {},
   "outputs": [
    {
     "name": "stdout",
     "output_type": "stream",
     "text": [
      "x= 3.0 y= 4.0\n"
     ]
    }
   ],
   "source": [
    "#Passing objects as arguments in a function\n",
    "def display_point(obj):#Passing an object obj\n",
    "    print(\"x=\",obj.x,\"y=\",obj.y)#Getting x and y values of obj\n",
    "    \n",
    "display_point(blank)"
   ]
  },
  {
   "cell_type": "code",
   "execution_count": 21,
   "metadata": {},
   "outputs": [
    {
     "name": "stdout",
     "output_type": "stream",
     "text": [
      "5.0\n",
      "10.295630140987\n"
     ]
    },
    {
     "data": {
      "text/plain": [
       "5.295630140987001"
      ]
     },
     "execution_count": 21,
     "metadata": {},
     "output_type": "execute_result"
    }
   ],
   "source": [
    "#Lets write a function called distance_between_points that takes two Points as arguments and returns the distance between them.\n",
    "def distance_between_points(obj1,obj2):\n",
    "    distance1 = math.sqrt(obj1.x**2 + obj1.y**2)\n",
    "    distance2 = math.sqrt(obj2.x**2 + obj2.y**2)\n",
    "    print(distance1)\n",
    "    print(distance2)\n",
    "    return abs(distance1-distance2)#Distance cannot be negative\n",
    "\n",
    "mypoint = Point(5.0,9.0)\n",
    "distance_between_points(blank,mypoint)"
   ]
  },
  {
   "cell_type": "markdown",
   "metadata": {},
   "source": [
    "### Classes and Functions\n"
   ]
  },
  {
   "cell_type": "code",
   "execution_count": 23,
   "metadata": {},
   "outputs": [
    {
     "name": "stdout",
     "output_type": "stream",
     "text": [
      "11 : 59 : 30\n"
     ]
    }
   ],
   "source": [
    "class Time:\n",
    "    \"\"\"Represents time of the day. Attributes: Hour,Minute,Second\"\"\"\n",
    "    def show(self):\n",
    "        print(self.hour,\":\",self.minute,\":\",self.sec)\n",
    "        \n",
    "        \n",
    "timeobj = Time()\n",
    "timeobj.hour = 11\n",
    "timeobj.minute = 59\n",
    "timeobj.sec = 30\n",
    "timeobj.show()"
   ]
  },
  {
   "cell_type": "code",
   "execution_count": 21,
   "metadata": {},
   "outputs": [
    {
     "name": "stdout",
     "output_type": "stream",
     "text": [
      "20 : 20 : 33\n"
     ]
    }
   ],
   "source": [
    "#Writing PURE FUNCTIONS(The function that does not modify any object passed to it as arguments)\n",
    "def add_time(t1,t2):\n",
    "    added = Time()\n",
    "    added.hour = t1.hour + t2.hour\n",
    "    added.minute = t1.hour + t2.hour\n",
    "    added.sec = t1.sec + t2.sec\n",
    "    return added.show()\n",
    "\n",
    "t1 = Time()\n",
    "t1.hour = 5\n",
    "t1.minute = 0\n",
    "t1.sec = 30\n",
    "\n",
    "t2 = Time()\n",
    "t2.hour = 15\n",
    "t2.minute = 30\n",
    "t2.sec = 3\n",
    "\n",
    "add_time(t1,t2)"
   ]
  },
  {
   "cell_type": "markdown",
   "metadata": {},
   "source": [
    "### Classes and Methods"
   ]
  },
  {
   "cell_type": "code",
   "execution_count": null,
   "metadata": {},
   "outputs": [],
   "source": []
  }
 ],
 "metadata": {
  "kernelspec": {
   "display_name": "Python 3",
   "language": "python",
   "name": "python3"
  },
  "language_info": {
   "codemirror_mode": {
    "name": "ipython",
    "version": 3
   },
   "file_extension": ".py",
   "mimetype": "text/x-python",
   "name": "python",
   "nbconvert_exporter": "python",
   "pygments_lexer": "ipython3",
   "version": "3.7.0"
  }
 },
 "nbformat": 4,
 "nbformat_minor": 2
}
