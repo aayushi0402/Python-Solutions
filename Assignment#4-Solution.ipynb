{
 "cells": [
  {
   "cell_type": "markdown",
   "metadata": {},
   "source": [
    "### Problem 1 :\n",
    "Write a function called accept_login(users, username, password) with three parameters: users a dictionary of username keys and password values, username a string for a login name and password a string for a password. The function should return True if the user exists and the password is correct and False otherwise. Here is the calling code, test your code with both good and bad passwords as well as non-existent login names."
   ]
  },
  {
   "cell_type": "code",
   "execution_count": 121,
   "metadata": {},
   "outputs": [
    {
     "name": "stdout",
     "output_type": "stream",
     "text": [
      "True\n"
     ]
    }
   ],
   "source": [
    "def accept_login(users,username,password):\n",
    "    try:\n",
    "        if (users[username] == password) and (username in users):\n",
    "            print(True)\n",
    "        else:\n",
    "            print(False)\n",
    "        \n",
    "    except KeyError:\n",
    "        print(username,\"is an invalid username\")\n",
    "        \n",
    "users={\"aayushi\":\"python\",\"Zeiss\":\"chewstick\",\"python\":\"oops\",\"student\":\"studentlogin\",\"teacher\":\"teacherlogin\"}    \n",
    "accept_login(users,\"Zeiss\",\"chewstick\")\n"
   ]
  },
  {
   "cell_type": "markdown",
   "metadata": {},
   "source": [
    "### Problem 2 :\n",
    "Write a function called find_value(mydict, val) that accepts a dictionary called mydict and a variable of any type called val. The function should return a list of keys that map to the value val in mydict."
   ]
  },
  {
   "cell_type": "code",
   "execution_count": 122,
   "metadata": {},
   "outputs": [
    {
     "data": {
      "text/plain": [
       "['python', 'c', 'c#']"
      ]
     },
     "execution_count": 122,
     "metadata": {},
     "output_type": "execute_result"
    }
   ],
   "source": [
    "testdict={\"python\":\"programming\",\"onetwothree\":123,\"pi\":3.14,\"c\":\"programming\",\"c#\":\"programming\"}\n",
    "\n",
    "def find_value(mydict,val):\n",
    "    list_key = []\n",
    "    for keys in mydict:\n",
    "        if mydict[keys] == val and keys not in list_key:\n",
    "            list_key.append(keys)\n",
    "    return list_key\n",
    "\n",
    "find_value(testdict,\"programming\")"
   ]
  },
  {
   "cell_type": "markdown",
   "metadata": {},
   "source": [
    "### Problem 3 :\n",
    "Write a function to invert a dictionary. It should accept a dictionary as a parameter and return a dictionary where the keys are values from the input dictionary and the values are lists of keys from the input dictionary. For example, \n",
    "this input:\n",
    "\n",
    "{ \"key1\" : \"value1\", \"key2\" : \"value2\", \"key3\" : \"value1\" } \n",
    "\n",
    "should return this dictionary: \n",
    "\n",
    "{ \"value1\" : [\"key1\", \"key3\"], \"value2\" : [\"key2\"] }\n",
    "\n"
   ]
  },
  {
   "cell_type": "code",
   "execution_count": 123,
   "metadata": {},
   "outputs": [
    {
     "name": "stdout",
     "output_type": "stream",
     "text": [
      "{'value1': ['key1', 'key3'], 'value2': ['key2']}\n"
     ]
    }
   ],
   "source": [
    "def inv_dict(mydict):\n",
    "    my_val=[]\n",
    "    dictionary={}\n",
    "    my_keys=[]\n",
    "    mylist=[1,2,3]\n",
    "    mylist2=[\"one\",\"two\",\"three\"]\n",
    "    keys=(mydict.keys())\n",
    "    newdict = {}\n",
    "    values=(mydict.values())\n",
    "    for k,v in zip(values,keys):\n",
    "        newdict[k] = []\n",
    "    for k,v in zip(values,keys):\n",
    "        newdict[k].append(v)\n",
    "        \n",
    "    print(newdict)\n",
    "    \n",
    "dicti={ \"key1\" : \"value1\", \"key2\" : \"value2\", \"key3\":\"value1\"}\n",
    "inv_dict(dicti)\n",
    "\n"
   ]
  },
  {
   "cell_type": "markdown",
   "metadata": {},
   "source": [
    "### Problem 4:\n",
    "Write a function called character frequencies(mylist) that accepts a list of strings called mylist and returns a dictionary where the keys are the words from mylist and the values are the number of times that character appears in mylist.\n",
    "\n",
    "If input is provided as :\n",
    "\n",
    "word_list = list(\"aaaaabbbbcccdde\") \n",
    "\n",
    "Output be like:\n",
    "\n",
    "word_freq = { ’a’ : 5, ’b’ : 4, ’c’ : 3, ’d’ : 2, ’e’ : 1 }\n",
    "\n"
   ]
  },
  {
   "cell_type": "code",
   "execution_count": 125,
   "metadata": {},
   "outputs": [
    {
     "data": {
      "text/plain": [
       "{'a': 5, 'b': 4, 'c': 3, 'd': 2, 'e': 1}"
      ]
     },
     "execution_count": 125,
     "metadata": {},
     "output_type": "execute_result"
    }
   ],
   "source": [
    "def char_freq(mylist):\n",
    "    mylist = list(mylist)\n",
    "    edict = {}\n",
    "    for char in mylist:\n",
    "        count = mylist.count(char)\n",
    "        edict[char] = count\n",
    "    return edict\n",
    "list12=\"aaaaabbbbcccdde\"\n",
    "char_freq(list12)"
   ]
  },
  {
   "cell_type": "markdown",
   "metadata": {},
   "source": [
    "### Problem 5:\n",
    "In bioinformatics a k-mer is a substring of k characters from a string that is longer than k (see https://en.wikipedia.org/wiki/K-mer for details). Write a function with two parameters: a string containing DNA and the value of k. Return a dictionary of k-mer counts."
   ]
  },
  {
   "cell_type": "code",
   "execution_count": 126,
   "metadata": {},
   "outputs": [
    {
     "data": {
      "text/plain": [
       "{'AG': 3,\n",
       " 'GT': 3,\n",
       " 'TA': 3,\n",
       " 'AC': 1,\n",
       " 'CG': 1,\n",
       " 'GA': 1,\n",
       " 'AT': 1,\n",
       " 'TT': 1,\n",
       " 'GG': 1,\n",
       " 'TC': 1}"
      ]
     },
     "execution_count": 126,
     "metadata": {},
     "output_type": "execute_result"
    }
   ],
   "source": [
    "def bioinfo(string,kval):\n",
    "    count = 0\n",
    "    dictionary = {}\n",
    "    my_list = []\n",
    "    for i in range(0,len(string)-kval+1):\n",
    "        var = string[i:kval+i]\n",
    "        dictionary[var] = string.count(var)\n",
    "    return(dictionary)\n",
    "        \n",
    "                \n",
    "    \n",
    "dna=\"AGTACGATAGTTTAGGTC\"\n",
    "bioinfo(dna,2)\n",
    "                \n",
    "    "
   ]
  },
  {
   "cell_type": "code",
   "execution_count": null,
   "metadata": {},
   "outputs": [],
   "source": []
  }
 ],
 "metadata": {
  "kernelspec": {
   "display_name": "Python 3",
   "language": "python",
   "name": "python3"
  },
  "language_info": {
   "codemirror_mode": {
    "name": "ipython",
    "version": 3
   },
   "file_extension": ".py",
   "mimetype": "text/x-python",
   "name": "python",
   "nbconvert_exporter": "python",
   "pygments_lexer": "ipython3",
   "version": "3.7.0"
  }
 },
 "nbformat": 4,
 "nbformat_minor": 2
}
