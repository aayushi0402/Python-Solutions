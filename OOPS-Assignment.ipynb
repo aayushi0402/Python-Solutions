{
 "cells": [
  {
   "cell_type": "code",
   "execution_count": 42,
   "metadata": {},
   "outputs": [
    {
     "name": "stdout",
     "output_type": "stream",
     "text": [
      "5044\n"
     ]
    }
   ],
   "source": [
    "movies = open(\"movie_metadata.csv\",encoding = \"utf8\")\n",
    "movie_data=[]\n",
    "for lines in movies:\n",
    "    #l = movies.readline()\n",
    "    record = lines.split(\",\")\n",
    "    movie_data.append(record)\n",
    "    \n",
    "    \n",
    "print(len(movie_data))"
   ]
  },
  {
   "cell_type": "code",
   "execution_count": 43,
   "metadata": {},
   "outputs": [
    {
     "name": "stdout",
     "output_type": "stream",
     "text": [
      "5044\n"
     ]
    }
   ],
   "source": [
    "my_data = []\n",
    "for record in movie_data:\n",
    "    #record 1 = dir name record 2 = dir likes record 11 movie title record 25 movie rating\n",
    "    b = [record[1],record[4],record[11],record[25]]\n",
    "    my_data.append(b)\n",
    "my_data\n",
    "print(len(my_data))"
   ]
  },
  {
   "cell_type": "code",
   "execution_count": 54,
   "metadata": {},
   "outputs": [],
   "source": [
    "class Movie:\n",
    "    def __init__(self,title,rating):\n",
    "        self.title = title\n",
    "        self.rating = rating\n",
    "    def setDirector(self,director):\n",
    "        self.director = director\n",
    "    def getDirector():\n",
    "        return self.director\n",
    "    def setActors(self,*args):\n",
    "        self.actors = []\n",
    "        for i in args:\n",
    "            self.actors.append(i)\n",
    "    def getActors():\n",
    "        return self.actors\n",
    "    def show(self):\n",
    "        print(\"Title:\",self.title)\n",
    "        print(\"Rating:\",self.rating)\n",
    "        print(\"Director:\",self.director.getdir()[0])\n",
    "        print(\"Actors:\",[i.get()[0] for i in self.actors])\n",
    "        return\n",
    "        \n",
    "    \n",
    "    \n",
    "class Director:\n",
    "    def __init__(self,dirname,dirlikes):\n",
    "        self.dirname = dirname\n",
    "        self.dirlikes = dirlikes\n",
    "    def getdir(self):\n",
    "        return (self.dirname,self.dirlikes)\n",
    "\n",
    "class Actor:\n",
    "    def __init__(self,actorname,actlikes):\n",
    "        self.actorname = actorname\n",
    "        self.actlikes = actlikes\n",
    "    def get(self):\n",
    "        return (self.actorname,self.actlikes)\n",
    "\n",
    "   \n",
    "\n",
    "        \n",
    "        \n",
    "movie_list = []\n",
    "directors = []\n",
    "actors = []\n",
    "\n",
    "\n",
    "def find_actor(actorname,actorlikes):\n",
    "    for actor in actors:\n",
    "        (name,likes) = actor.get()\n",
    "        if (actorname == name ) and actorlikes == likes :\n",
    "            return actor\n",
    "        \n",
    "    newactor = Actor(actorname,actorlikes)\n",
    "    actors.append(newactor)\n",
    "    return newactor\n",
    "\n",
    "def find_director(directorname,directorlikes):\n",
    "    for d in directors:\n",
    "        (dname,dlikes) = d.getdir()\n",
    "        if (dname == directorname) and (dlikes == directorlikes):\n",
    "            return d\n",
    "    newdir = Director(directorname,directorlikes)\n",
    "    directors.append(newdir)\n",
    "    return newdir\n",
    "\n",
    "for record in movie_data:\n",
    "    movie,rating = record[11],record[25]\n",
    "    dirname,dirlikes = record[1],record[4]\n",
    "    movie = movie[:-1]\n",
    "    m1 = Movie(movie,rating)\n",
    "    if m1 not in movie_list:\n",
    "        movie_list.append(m1)\n",
    "        d1 = find_director(dirname,dirlikes)\n",
    "        m1.setDirector(d1)\n",
    "        actor1name,actor1likes = record[10],record[7]\n",
    "        actor2name,actor2likes = record[6],record[24]\n",
    "        actor3name,actor3likes = record[14],record[5]\n",
    "        a1 = find_actor(actor1name,actor1likes)\n",
    "        a2 = find_actor(actor2name,actor2likes)\n",
    "        a3 = find_actor(actor3name,actor3likes)\n",
    "        m1.setActors(a1,a2,a3)\n",
    "        \n",
    "\n"
   ]
  },
  {
   "cell_type": "code",
   "execution_count": 57,
   "metadata": {},
   "outputs": [
    {
     "name": "stdout",
     "output_type": "stream",
     "text": [
      "2404\n",
      "6469\n",
      "5044\n",
      "Title: The Verdict\n",
      "Rating: 7.8\n",
      "Director: Sidney Lumet\n",
      "Actors: ['Charlotte Rampling', 'James Mason', 'Jack Warden']\n",
      "None\n"
     ]
    }
   ],
   "source": [
    "print(len(directors))\n",
    "print(len(actors))\n",
    "print(len(movie_list))        \n",
    "print(movie_list[2543].show())\n",
    "        "
   ]
  },
  {
   "cell_type": "code",
   "execution_count": null,
   "metadata": {},
   "outputs": [],
   "source": []
  }
 ],
 "metadata": {
  "kernelspec": {
   "display_name": "Python 3",
   "language": "python",
   "name": "python3"
  },
  "language_info": {
   "codemirror_mode": {
    "name": "ipython",
    "version": 3
   },
   "file_extension": ".py",
   "mimetype": "text/x-python",
   "name": "python",
   "nbconvert_exporter": "python",
   "pygments_lexer": "ipython3",
   "version": "3.7.0"
  }
 },
 "nbformat": 4,
 "nbformat_minor": 2
}
